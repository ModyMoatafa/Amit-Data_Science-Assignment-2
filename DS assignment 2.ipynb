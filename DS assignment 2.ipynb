{
 "cells": [
  {
   "cell_type": "markdown",
   "id": "9a3af8d0",
   "metadata": {},
   "source": [
    "# Assignment 2 Data science AMIT "
   ]
  },
  {
   "cell_type": "code",
   "execution_count": 2,
   "id": "999084a8",
   "metadata": {},
   "outputs": [],
   "source": [
    "import numpy as np "
   ]
  },
  {
   "cell_type": "markdown",
   "id": "90259b56",
   "metadata": {},
   "source": [
    "Q1-Write a NumPy program to test whether none of the elements of a given array is zero.\n"
   ]
  },
  {
   "cell_type": "code",
   "execution_count": 4,
   "id": "0914da46",
   "metadata": {},
   "outputs": [
    {
     "name": "stdout",
     "output_type": "stream",
     "text": [
      "False\n"
     ]
    }
   ],
   "source": [
    "arr=np.array([[0,2],[3,4]])\n",
    "print(np.all(arr))"
   ]
  },
  {
   "cell_type": "markdown",
   "id": "2348dfb1",
   "metadata": {},
   "source": [
    "Q2-Write a NumPy program to test whether any of the elements of a given array is non-zero"
   ]
  },
  {
   "cell_type": "code",
   "execution_count": 6,
   "id": "a556f42d",
   "metadata": {},
   "outputs": [
    {
     "name": "stdout",
     "output_type": "stream",
     "text": [
      "True\n"
     ]
    }
   ],
   "source": [
    "arr2 = np.array([0,0,0,0,1])\n",
    "print(np.any(arr2))"
   ]
  },
  {
   "cell_type": "markdown",
   "id": "0b85e95d",
   "metadata": {},
   "source": [
    "Q3-Write a NumPy program to create an element-wise comparison (equal, equal within a tolerance) of two\n",
    "given"
   ]
  },
  {
   "cell_type": "code",
   "execution_count": 9,
   "id": "d957dee0",
   "metadata": {},
   "outputs": [
    {
     "name": "stdout",
     "output_type": "stream",
     "text": [
      "[ True  True  True]\n",
      "True\n"
     ]
    }
   ],
   "source": [
    "array1 = np.array([1,2,3])\n",
    "array2 = np.array([1,2,3])\n",
    "#a-equal\n",
    "print(np.equal(array1,array2))\n",
    "#b-equal within a tolerance\n",
    "print(np.allclose(array1,array2))"
   ]
  },
  {
   "cell_type": "markdown",
   "id": "8728f05b",
   "metadata": {},
   "source": [
    "Q4-Write a NumPy program to create an array of 10 zeros,10 ones, 10 fives."
   ]
  },
  {
   "cell_type": "code",
   "execution_count": 12,
   "id": "c7a504b3",
   "metadata": {},
   "outputs": [
    {
     "name": "stdout",
     "output_type": "stream",
     "text": [
      "[[0. 0. 0. 0. 0. 0. 0. 0. 0. 0.]\n",
      " [1. 1. 1. 1. 1. 1. 1. 1. 1. 1.]\n",
      " [5. 5. 5. 5. 5. 5. 5. 5. 5. 5.]]\n"
     ]
    }
   ],
   "source": [
    "#10 zeros\n",
    "a1=np.zeros(10)\n",
    "#10 ones\n",
    "a2=np.ones(10)\n",
    "#10 fives\n",
    "a3=np.ones(10)*5\n",
    "#\n",
    "final_array=np.array([a1,a2,a3])\n",
    "print(final_array)"
   ]
  },
  {
   "cell_type": "markdown",
   "id": "0cfe5884",
   "metadata": {},
   "source": [
    "Q5-Write a NumPy program to create an array of the integers from 30 to70."
   ]
  },
  {
   "cell_type": "code",
   "execution_count": 15,
   "id": "fbb7c1ec",
   "metadata": {},
   "outputs": [
    {
     "name": "stdout",
     "output_type": "stream",
     "text": [
      "[30 31 32 33 34 35 36 37 38 39 40 41 42 43 44 45 46 47 48 49 50 51 52 53\n",
      " 54 55 56 57 58 59 60 61 62 63 64 65 66 67 68 69 70]\n"
     ]
    }
   ],
   "source": [
    "int_array=np.arange(30,71)\n",
    "print(int_array)"
   ]
  },
  {
   "cell_type": "markdown",
   "id": "2660232d",
   "metadata": {},
   "source": [
    "Q6-Write a NumPy program to create a 3x3 identity matrix"
   ]
  },
  {
   "cell_type": "code",
   "execution_count": 16,
   "id": "b8a75600",
   "metadata": {},
   "outputs": [
    {
     "name": "stdout",
     "output_type": "stream",
     "text": [
      "[[1. 0. 0.]\n",
      " [0. 1. 0.]\n",
      " [0. 0. 1.]]\n"
     ]
    }
   ],
   "source": [
    "identity_matrix = np.identity(3)\n",
    "print(identity_matrix)"
   ]
  },
  {
   "cell_type": "markdown",
   "id": "cdd27ca2",
   "metadata": {},
   "source": [
    "Q7-Write a NumPy program to generate a random number between 0 and 1"
   ]
  },
  {
   "cell_type": "code",
   "execution_count": 18,
   "id": "d5441156",
   "metadata": {},
   "outputs": [
    {
     "name": "stdout",
     "output_type": "stream",
     "text": [
      "0.1776193184397555\n"
     ]
    }
   ],
   "source": [
    "random_num = np.random.normal(0,1)\n",
    "print(random_num)"
   ]
  },
  {
   "cell_type": "markdown",
   "id": "df101697",
   "metadata": {},
   "source": [
    "Q8-Write a NumPy program to generate an array of 15 random numbers from a standard normal distribution"
   ]
  },
  {
   "cell_type": "code",
   "execution_count": 20,
   "id": "b29b1fe8",
   "metadata": {},
   "outputs": [
    {
     "name": "stdout",
     "output_type": "stream",
     "text": [
      "[ 0.0905146  -0.53011708 -1.69036464 -1.83252842 -1.28931186 -1.45535165\n",
      "  0.56108169  1.87117968  1.03289834 -0.12019349  1.01067943  1.82484911\n",
      " -0.60511972  0.9987859   0.35027244]\n"
     ]
    }
   ],
   "source": [
    "random_array=np.random.normal(0,1,15)\n",
    "print(random_array)"
   ]
  },
  {
   "cell_type": "markdown",
   "id": "1741e7ab",
   "metadata": {},
   "source": [
    "Q9-Write a NumPy program to create a vector with values ranging from 15 to 55 and print all values except the first and last"
   ]
  },
  {
   "cell_type": "code",
   "execution_count": 22,
   "id": "a0edbcfa",
   "metadata": {},
   "outputs": [
    {
     "name": "stdout",
     "output_type": "stream",
     "text": [
      "[16 17 18 19 20 21 22 23 24 25 26 27 28 29 30 31 32 33 34 35 36 37 38 39\n",
      " 40 41 42 43 44 45 46 47 48 49 50 51 52 53 54]\n"
     ]
    }
   ],
   "source": [
    "start=15\n",
    "end=55\n",
    "rang_vector = np.arange(start+1,end)\n",
    "print(rang_vector)"
   ]
  },
  {
   "cell_type": "markdown",
   "id": "401c2d73",
   "metadata": {},
   "source": [
    "Q10-Write a NumPy program to create a vector of length 5 filled with arbitrary integers from 0 to 10"
   ]
  },
  {
   "cell_type": "code",
   "execution_count": 23,
   "id": "7b63780d",
   "metadata": {},
   "outputs": [
    {
     "name": "stdout",
     "output_type": "stream",
     "text": [
      "[9 3 4 4 0]\n"
     ]
    }
   ],
   "source": [
    "arb_int=np.random.randint(0,11,5)\n",
    "print(arb_int)"
   ]
  },
  {
   "cell_type": "markdown",
   "id": "c21a20a2",
   "metadata": {},
   "source": [
    "Q11-Write a NumPy program to create a 10x10 matrix, in which the elements on the borders will be equal to 1, and inside 0"
   ]
  },
  {
   "cell_type": "code",
   "execution_count": 27,
   "id": "4accacd6",
   "metadata": {},
   "outputs": [
    {
     "name": "stdout",
     "output_type": "stream",
     "text": [
      "[[1. 1. 1. 1. 1. 1. 1. 1. 1. 1.]\n",
      " [1. 0. 0. 0. 0. 0. 0. 0. 0. 1.]\n",
      " [1. 0. 0. 0. 0. 0. 0. 0. 0. 1.]\n",
      " [1. 0. 0. 0. 0. 0. 0. 0. 0. 1.]\n",
      " [1. 0. 0. 0. 0. 0. 0. 0. 0. 1.]\n",
      " [1. 0. 0. 0. 0. 0. 0. 0. 0. 1.]\n",
      " [1. 0. 0. 0. 0. 0. 0. 0. 0. 1.]\n",
      " [1. 0. 0. 0. 0. 0. 0. 0. 0. 1.]\n",
      " [1. 0. 0. 0. 0. 0. 0. 0. 0. 1.]\n",
      " [1. 1. 1. 1. 1. 1. 1. 1. 1. 1.]]\n"
     ]
    }
   ],
   "source": [
    "matrix10=np.ones((10,10))\n",
    "matrix10[1:9 , 1:9] = 0 # or matrix10[1:-1 , 1:-1] = 0 \n",
    "print(matrix10)"
   ]
  },
  {
   "cell_type": "markdown",
   "id": "e7a785af",
   "metadata": {},
   "source": [
    "Q12-Write a NumPy program to create a 5x5 zero matrix with elements on the main diagonal equal to 1, 2,3, 4, 5."
   ]
  },
  {
   "cell_type": "code",
   "execution_count": 32,
   "id": "e7f0bb5c",
   "metadata": {},
   "outputs": [
    {
     "name": "stdout",
     "output_type": "stream",
     "text": [
      "[[1 0 0 0 0]\n",
      " [0 2 0 0 0]\n",
      " [0 0 3 0 0]\n",
      " [0 0 0 4 0]\n",
      " [0 0 0 0 5]]\n"
     ]
    }
   ],
   "source": [
    "diagonal_matrix=np.diag([1,2,3,4,5])\n",
    "print(diagonal_matrix)"
   ]
  },
  {
   "cell_type": "markdown",
   "id": "4e43e91f",
   "metadata": {},
   "source": [
    "Q13-Write a NumPy program to create a 4x4 matrix in which 0 and 1 are staggered, with zeros on the main diagonal"
   ]
  },
  {
   "cell_type": "code",
   "execution_count": 38,
   "id": "f590a85c",
   "metadata": {},
   "outputs": [
    {
     "name": "stdout",
     "output_type": "stream",
     "text": [
      "[[0. 1. 0. 1.]\n",
      " [1. 0. 1. 0.]\n",
      " [0. 1. 0. 1.]\n",
      " [1. 0. 1. 0.]]\n"
     ]
    }
   ],
   "source": [
    "matrix4=np.zeros((4,4))\n",
    "\n",
    "matrix4[::2 ,1::2]=1\n",
    "matrix4[1::2,::2]=1\n",
    "print(matrix4)"
   ]
  },
  {
   "cell_type": "markdown",
   "id": "65485d79",
   "metadata": {},
   "source": [
    "Q14-Write a NumPy program to save two given arrays into a single file in compressed format (.npz format) and load it."
   ]
  },
  {
   "cell_type": "code",
   "execution_count": 6,
   "id": "02900ca1",
   "metadata": {},
   "outputs": [
    {
     "name": "stdout",
     "output_type": "stream",
     "text": [
      "originals are: [1, 2, 3, 4] and [5, 6, 7, 8]\n",
      "[1 2 3 4] [5 6 7 8] are the arrays after loading in the file\n"
     ]
    }
   ],
   "source": [
    "import os\n",
    "x=[1,2,3,4]\n",
    "y=[5,6,7,8]\n",
    "print(f'originals are: {x} and {y}')\n",
    "np.savez('amit.npz', x=x, y=y)\n",
    "with np.load('amit.npz') as data:\n",
    "    new_x = data['x']\n",
    "    new_y = data['y']\n",
    "    print(f'{new_x} {new_y} are the arrays after loading in the file')"
   ]
  },
  {
   "cell_type": "markdown",
   "id": "7ddf8333",
   "metadata": {},
   "source": [
    "Q15-Write a NumPy program to create a one-dimensional array of forty pseudo-randomly generated values."
   ]
  },
  {
   "cell_type": "code",
   "execution_count": 7,
   "id": "82772857",
   "metadata": {},
   "outputs": [
    {
     "name": "stdout",
     "output_type": "stream",
     "text": [
      "[0.77132064 0.02075195 0.63364823 0.74880388 0.49850701 0.22479665\n",
      " 0.19806286 0.76053071 0.16911084 0.08833981 0.68535982 0.95339335\n",
      " 0.00394827 0.51219226 0.81262096 0.61252607 0.72175532 0.29187607\n",
      " 0.91777412 0.71457578 0.54254437 0.14217005 0.37334076 0.67413362\n",
      " 0.44183317 0.43401399 0.61776698 0.51313824 0.65039718 0.60103895\n",
      " 0.8052232  0.52164715 0.90864888 0.31923609 0.09045935 0.30070006\n",
      " 0.11398436 0.82868133 0.04689632 0.62628715]\n"
     ]
    }
   ],
   "source": [
    "np.random.seed(10)\n",
    "print(np.random.rand(40))"
   ]
  },
  {
   "cell_type": "markdown",
   "id": "d0122700",
   "metadata": {},
   "source": [
    "Q16-Write a NumPy program to extract all numbers from a given array which are less and greater than a specified number"
   ]
  },
  {
   "cell_type": "code",
   "execution_count": 9,
   "id": "d3b1134d",
   "metadata": {},
   "outputs": [
    {
     "name": "stdout",
     "output_type": "stream",
     "text": [
      "Original array:\n",
      "[[5.54 3.38 7.99]\n",
      " [3.54 4.38 6.99]\n",
      " [1.54 2.39 9.29]]\n",
      "\n",
      "Enter the comparing number:5\n",
      "\n",
      "Elements of the said array greater than 5\n",
      "[5.54 7.99 6.99 9.29]\n",
      "\n",
      "Elements of the said array less than 5\n",
      "[3.38 3.54 4.38 1.54 2.39]\n"
     ]
    }
   ],
   "source": [
    "my_nums=[[5.54, 3.38, 7.99],\n",
    "         [3.54, 4.38, 6.99],\n",
    "         [1.54, 2.39, 9.29]]\n",
    "nums = np.array(my_nums)\n",
    "print(\"Original array:\")\n",
    "print(nums)\n",
    "n = int(input(\"\\nEnter the comparing number:\"))\n",
    "print(\"\\nElements of the said array greater than\",n)\n",
    "print(nums[nums > n])\n",
    "print(\"\\nElements of the said array less than\",n)\n",
    "print(nums[nums < n])"
   ]
  }
 ],
 "metadata": {
  "kernelspec": {
   "display_name": "Python 3 (ipykernel)",
   "language": "python",
   "name": "python3"
  },
  "language_info": {
   "codemirror_mode": {
    "name": "ipython",
    "version": 3
   },
   "file_extension": ".py",
   "mimetype": "text/x-python",
   "name": "python",
   "nbconvert_exporter": "python",
   "pygments_lexer": "ipython3",
   "version": "3.11.4"
  }
 },
 "nbformat": 4,
 "nbformat_minor": 5
}
